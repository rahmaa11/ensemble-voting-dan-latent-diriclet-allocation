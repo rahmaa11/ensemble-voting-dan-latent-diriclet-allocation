{
  "cells": [
    {
      "cell_type": "markdown",
      "metadata": {},
      "source": [
        
      ]
    },
    {
      "cell_type": "code",
      "execution_count": 5,
      "metadata": {
        "colab": {
          "base_uri": "https://localhost:8080/"
        },
        "id": "vcb5q--mM_mT",
        "outputId": "51a124a6-80cc-4af1-b95a-c836d1b1e327"
      },
      "outputs": [
        {
          "name": "stdout",
          "output_type": "stream",
          "text": [
            "Collecting google-play-scraper\n",
            "  Downloading google_play_scraper-1.2.7-py3-none-any.whl.metadata (50 kB)\n",
            "\u001b[?25l     \u001b[90m━━━━━━━━━━━━━━━━━━━━━━━━━━━━━━━━━━━━━━━━\u001b[0m \u001b[32m0.0/50.2 kB\u001b[0m \u001b[31m?\u001b[0m eta \u001b[36m-:--:--\u001b[0m\r\u001b[2K     \u001b[90m━━━━━━━━━━━━━━━━━━━━━━━━━━━━━━━━━━━━━━━━\u001b[0m \u001b[32m50.2/50.2 kB\u001b[0m \u001b[31m3.5 MB/s\u001b[0m eta \u001b[36m0:00:00\u001b[0m\n",
            "\u001b[?25hRequirement already satisfied: pandas in /usr/local/lib/python3.10/dist-packages (2.2.2)\n",
            "Requirement already satisfied: numpy>=1.22.4 in /usr/local/lib/python3.10/dist-packages (from pandas) (1.26.4)\n",
            "Requirement already satisfied: python-dateutil>=2.8.2 in /usr/local/lib/python3.10/dist-packages (from pandas) (2.8.2)\n",
            "Requirement already satisfied: pytz>=2020.1 in /usr/local/lib/python3.10/dist-packages (from pandas) (2024.2)\n",
            "Requirement already satisfied: tzdata>=2022.7 in /usr/local/lib/python3.10/dist-packages (from pandas) (2024.2)\n",
            "Requirement already satisfied: six>=1.5 in /usr/local/lib/python3.10/dist-packages (from python-dateutil>=2.8.2->pandas) (1.16.0)\n",
            "Downloading google_play_scraper-1.2.7-py3-none-any.whl (28 kB)\n",
            "Installing collected packages: google-play-scraper\n",
            "Successfully installed google-play-scraper-1.2.7\n"
          ]
        }
      ],
      "source": [
        "pip install google-play-scraper pandas\n"
      ]
    },
    {
      "cell_type": "code",
      "execution_count": 1,
      "metadata": {
        "colab": {
          "base_uri": "https://localhost:8080/"
        },
        "id": "WYf-b7fpOqLb",
        "outputId": "b13e7ddf-9f90-402b-d968-5da9816c448c"
      },
      "outputs": [
        {
          "name": "stdout",
          "output_type": "stream",
          "text": [
            "Mounted at /content/drive\n"
          ]
        }
      ],
      "source": [
        "# Hubungkan ke Google Drive\n",
        "from google.colab import drive\n",
        "drive.mount('/content/drive')\n"
      ]
    },
    {
      "cell_type": "code",
      "execution_count": 6,
      "metadata": {
        "id": "v-1sThTU-N9S"
      },
      "outputs": [],
      "source": [
        "\n",
        "from google_play_scraper import Sort, reviews_all\n",
        "import pandas as pd\n",
        "from dateutil import parser\n",
        "\n",
        "# Fungsi untuk filter berdasarkan tanggal\n",
        "def filter_by_date(reviews, start_date, end_date):\n",
        "    filtered_reviews = []\n",
        "    for review in reviews:\n",
        "        review_date = parser.parse(review['at'].isoformat())  # Konversi tanggal ulasan\n",
        "        if start_date <= review_date <= end_date:\n",
        "            filtered_reviews.append(review)\n",
        "    return filtered_reviews\n",
        "\n",
        "# Rentang tanggal\n",
        "start_date = parser.parse('2022-03-23')\n",
        "end_date = parser.parse('2024-11-11')\n",
        "\n",
        "# Scraping ulasan dalam bahasa Indonesia\n",
        "app_reviews = reviews_all(\n",
        "    'com.bibit.bibitid',  # bibit di playstore\n",
        "    lang='id',           # ulasan dari indonesia\n",
        ")\n",
        "\n",
        "# Filter ulasan berdasarkan tanggal yang diinginkan\n",
        "filtered_reviews = filter_by_date(app_reviews, start_date, end_date)\n",
        "\n",
        "# Simpan ke dalam DataFrame\n",
        "df_1 = pd.DataFrame(filtered_reviews)"
      ]
    },
    {
      "cell_type": "code",
      "execution_count": 7,
      "metadata": {
        "colab": {
          "base_uri": "https://localhost:8080/"
        },
        "id": "oFNYLiG7XNe1",
        "outputId": "b0e8d587-4681-40f5-de75-a9891da83a9d"
      },
      "outputs": [
        {
          "data": {
            "text/plain": [
              "10942"
            ]
          },
          "execution_count": 7,
          "metadata": {},
          "output_type": "execute_result"
        }
      ],
      "source": [
        "#JUMLAH DATA\n",
        "df_1['score'].count()"
      ]
    },
    {
      "cell_type": "code",
      "execution_count": null,
      "metadata": {
        "colab": {
          "base_uri": "https://localhost:8080/"
        },
        "id": "D8fUZx8tnSrb",
        "outputId": "6c358290-a69c-4233-a055-cffe2f81c63a"
      },
      "outputs": [
        {
          "name": "stdout",
          "output_type": "stream",
          "text": [
            "Output saved to: /content/drive/My Drive/SKRIPSI BISMILLAH/111/ulasanbibitfix2022.xlsx\n"
          ]
        }
      ],
      "source": [
        "#simpan ke excel\n",
        "output_file_path = \"/content/drive/My Drive/SKRIPSI BISMILLAH/111/ulasanbibitfix2022.xlsx\"\n",
        "df_1.to_excel(output_file_path, index=False)\n",
        "print(\"Output saved to:\", output_file_path)"
      ]
    }
  ],
  "metadata": {
    "colab": {
      "provenance": []
    },
    "kernelspec": {
      "display_name": "Python 3",
      "language": "python",
      "name": "python3"
    },
    "language_info": {
      "codemirror_mode": {
        "name": "ipython",
        "version": 3
      },
      "file_extension": ".py",
      "mimetype": "text/x-python",
      "name": "python",
      "nbconvert_exporter": "python",
      "pygments_lexer": "ipython3",
      "version": "3.11.2"
    }
  },
  "nbformat": 4,
  "nbformat_minor": 0
}
